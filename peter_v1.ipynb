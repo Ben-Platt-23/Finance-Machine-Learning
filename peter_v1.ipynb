{
 "cells": [
  {
   "cell_type": "code",
   "execution_count": 1,
   "metadata": {},
   "outputs": [
    {
     "ename": "ImportError",
     "evalue": "cannot import name 'QCAlgorithm' from 'AlgorithmImports' (unknown location)",
     "output_type": "error",
     "traceback": [
      "\u001b[1;31m---------------------------------------------------------------------------\u001b[0m",
      "\u001b[1;31mImportError\u001b[0m                               Traceback (most recent call last)",
      "Cell \u001b[1;32mIn[1], line 1\u001b[0m\n\u001b[1;32m----> 1\u001b[0m \u001b[38;5;28;01mfrom\u001b[39;00m \u001b[38;5;21;01mAlgorithmImports\u001b[39;00m \u001b[38;5;28;01mimport\u001b[39;00m QCAlgorithm\n\u001b[0;32m      2\u001b[0m \u001b[38;5;28;01mfrom\u001b[39;00m \u001b[38;5;21;01mIndicatorsImports\u001b[39;00m \u001b[38;5;28;01mimport\u001b[39;00m \u001b[38;5;241m*\u001b[39m\n\u001b[0;32m      3\u001b[0m \u001b[38;5;28;01mfrom\u001b[39;00m \u001b[38;5;21;01mDataImports\u001b[39;00m \u001b[38;5;28;01mimport\u001b[39;00m \u001b[38;5;241m*\u001b[39m\n",
      "\u001b[1;31mImportError\u001b[0m: cannot import name 'QCAlgorithm' from 'AlgorithmImports' (unknown location)"
     ]
    }
   ],
   "source": [
    "from AlgorithmImports import QCAlgorithm\n",
    "from IndicatorsImports import *\n",
    "from DataImports import *\n",
    "from OrdersImports import *\n",
    "from datetime import datetime, timedelta\n",
    "\n",
    "class EminiSP500FuturesAlgo(QCAlgorithm):\n",
    "    def Initialize(self):\n",
    "        self.symbol = \"ES\"\n",
    "        self.resolution = Resolution.Minute\n",
    "        self.rsiPeriod = 14\n",
    "        self.stochasticPeriod = 14\n",
    "        self.meanReversionLookback = 20\n",
    "        self.macdFastPeriod = 12\n",
    "        self.macdSlowPeriod = 26\n",
    "        self.macdSignalPeriod = 9\n",
    "        self.holdingPeriod = timedelta(minutes=30)\n",
    "        self.lastTradeTime = datetime.min\n",
    "\n",
    "        self.stochastic = self.STO(self.symbol, self.stochasticPeriod, self.resolution, 3, 3, MovingAverageType.Wilders, MovingAverageType.Wilders)\n",
    "        self.rsi = self.RSI(self.symbol, self.rsiPeriod, self.resolution)\n",
    "        self.meanReversion = self.SMA(self.symbol, self.meanReversionLookback, self.resolution)\n",
    "        self.macd = self.MACD(self.symbol, self.macdFastPeriod, self.macdSlowPeriod, self.macdSignalPeriod, MovingAverageType.Wilders, self.resolution)\n",
    "\n",
    "    def OnData(self, data):\n",
    "        if not self.Portfolio[self.symbol].Invested and self.Time - self.lastTradeTime < self.holdingPeriod:\n",
    "            return\n",
    "\n",
    "        if self.stochastic.IsReady and self.rsi.IsReady and self.macd.IsReady and self.meanReversion.IsReady:\n",
    "            currentPrice = self.Securities[self.symbol].Price\n",
    "            mean = self.meanReversion.Current.Value\n",
    "\n",
    "            if self.ShouldEnterLongPosition(currentPrice, mean) and self.macd.Current.Value > self.macd.Signal.Current.Value:\n",
    "                self.SetHoldings(self.symbol, 1.0)\n",
    "                self.lastTradeTime = self.Time\n",
    "            elif self.ShouldEnterShortPosition(currentPrice, mean) and self.macd.Current.Value < self.macd.Signal.Current.Value:\n",
    "                self.SetHoldings(self.symbol, -1.0)\n",
    "                self.lastTradeTime = self.Time\n",
    "            elif self.Portfolio[self.symbol].Invested and self.Time - self.lastTradeTime >= self.holdingPeriod:\n",
    "                self.Liquidate(self.symbol)\n",
    "                self.lastTradeTime = self.Time\n",
    "\n",
    "    def ShouldEnterLongPosition(self, currentPrice, mean):\n",
    "        return self.stochastic.StochK.Current.Value < 20 and self.rsi.Current.Value < 30 and currentPrice < mean\n",
    "\n",
    "    def ShouldEnterShortPosition(self, currentPrice, mean):\n",
    "        return self.stochastic.StochK.Current.Value > 80 and self.rsi.Current.Value > 70 and currentPrice > mean\n"
   ]
  }
 ],
 "metadata": {
  "kernelspec": {
   "display_name": "Python 3",
   "language": "python",
   "name": "python3"
  },
  "language_info": {
   "codemirror_mode": {
    "name": "ipython",
    "version": 3
   },
   "file_extension": ".py",
   "mimetype": "text/x-python",
   "name": "python",
   "nbconvert_exporter": "python",
   "pygments_lexer": "ipython3",
   "version": "3.12.2"
  }
 },
 "nbformat": 4,
 "nbformat_minor": 2
}

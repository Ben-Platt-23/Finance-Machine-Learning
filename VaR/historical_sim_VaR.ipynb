{
 "cells": [
  {
   "cell_type": "code",
   "execution_count": 1,
   "metadata": {},
   "outputs": [],
   "source": [
    "import yfinance as yf\n",
    "import pandas as pd"
   ]
  },
  {
   "cell_type": "code",
   "execution_count": 2,
   "metadata": {},
   "outputs": [],
   "source": [
    "# Setting the ticker\n",
    "ticker = 'AAPL' "
   ]
  },
  {
   "cell_type": "code",
   "execution_count": 3,
   "metadata": {},
   "outputs": [],
   "source": [
    "# Setting the time period for the data\n",
    "start_date = '2015-01-01'\n",
    "end_date = '2023-01-01'"
   ]
  },
  {
   "cell_type": "code",
   "execution_count": 4,
   "metadata": {},
   "outputs": [
    {
     "name": "stderr",
     "output_type": "stream",
     "text": [
      "[*********************100%%**********************]  1 of 1 completed\n"
     ]
    }
   ],
   "source": [
    "# Downloading the data\n",
    "data = yf.download(ticker, start=start_date, end=end_date)"
   ]
  },
  {
   "cell_type": "code",
   "execution_count": 5,
   "metadata": {},
   "outputs": [
    {
     "data": {
      "text/plain": [
       "Index(['Open', 'High', 'Low', 'Close', 'Adj Close', 'Volume'], dtype='object')"
      ]
     },
     "execution_count": 5,
     "metadata": {},
     "output_type": "execute_result"
    }
   ],
   "source": [
    "# Displaying the features/variables so I have the actual names handy for calling them\n",
    "data.columns"
   ]
  },
  {
   "cell_type": "code",
   "execution_count": 9,
   "metadata": {},
   "outputs": [
    {
     "name": "stderr",
     "output_type": "stream",
     "text": [
      "C:\\Users\\bhpla\\AppData\\Local\\Temp\\ipykernel_25200\\166514786.py:2: SettingWithCopyWarning: \n",
      "A value is trying to be set on a copy of a slice from a DataFrame.\n",
      "Try using .loc[row_indexer,col_indexer] = value instead\n",
      "\n",
      "See the caveats in the documentation: https://pandas.pydata.org/pandas-docs/stable/user_guide/indexing.html#returning-a-view-versus-a-copy\n",
      "  data['Daily Return'] = data['Adj Close'].pct_change()\n"
     ]
    }
   ],
   "source": [
    "# Getting daily returns\n",
    "data['Daily Return'] = data['Adj Close'].pct_change()"
   ]
  },
  {
   "cell_type": "code",
   "execution_count": 10,
   "metadata": {},
   "outputs": [],
   "source": [
    "# Getting rid of missing values\n",
    "data = data.dropna()"
   ]
  },
  {
   "cell_type": "code",
   "execution_count": 12,
   "metadata": {},
   "outputs": [
    {
     "name": "stdout",
     "output_type": "stream",
     "text": [
      "            Adj Close  Daily Return\n",
      "Date                               \n",
      "2015-01-06  23.689528      0.000094\n",
      "2015-01-07  24.021713      0.014022\n",
      "2015-01-08  24.944687      0.038422\n",
      "2015-01-09  24.971437      0.001072\n",
      "2015-01-12  24.356129     -0.024641\n",
      "2015-01-13  24.572372      0.008878\n",
      "2015-01-14  24.478737     -0.003811\n",
      "2015-01-15  23.814384     -0.027140\n",
      "2015-01-16  23.629343     -0.007770\n",
      "2015-01-20  24.237967      0.025757\n"
     ]
    }
   ],
   "source": [
    "# Displaying the first 10 rows of the daily returns\n",
    "print(data[['Adj Close', 'Daily Return']].head(10))"
   ]
  },
  {
   "cell_type": "code",
   "execution_count": 13,
   "metadata": {},
   "outputs": [],
   "source": [
    "import numpy as np"
   ]
  },
  {
   "cell_type": "code",
   "execution_count": 14,
   "metadata": {},
   "outputs": [],
   "source": [
    "# Setting the confidence level\n",
    "confidence_level = .95"
   ]
  },
  {
   "cell_type": "code",
   "execution_count": 15,
   "metadata": {},
   "outputs": [],
   "source": [
    "# Calculate the percentile corresponding to the confidence level\n",
    "var_percentile = 100 * (1 - confidence_level)"
   ]
  },
  {
   "cell_type": "code",
   "execution_count": 16,
   "metadata": {},
   "outputs": [],
   "source": [
    "# Calculate VaR\n",
    "historical_var = np.percentile(data['Daily Return'], var_percentile)"
   ]
  },
  {
   "cell_type": "code",
   "execution_count": 17,
   "metadata": {},
   "outputs": [],
   "source": [
    "# Calculate VaR in dollar terms\n",
    "# Setting an assumed initial investment of $10,000\n",
    "initial_investment = 10000\n",
    "var_dollar = historical_var * initial_investment"
   ]
  },
  {
   "cell_type": "code",
   "execution_count": 18,
   "metadata": {},
   "outputs": [
    {
     "name": "stdout",
     "output_type": "stream",
     "text": [
      "Historical VaR (1-day, 95.0% confidence level): -2.89%\n",
      "VaR in dollar terms for a $10000 investment: $-289.12\n"
     ]
    }
   ],
   "source": [
    "# Display the results\n",
    "print(f\"Historical VaR (1-day, {confidence_level*100}% confidence level): {historical_var:.2%}\")\n",
    "print(f\"VaR in dollar terms for a ${initial_investment} investment: ${var_dollar:.2f}\")"
   ]
  },
  {
   "cell_type": "code",
   "execution_count": 20,
   "metadata": {},
   "outputs": [],
   "source": [
    "import matplotlib.pyplot as plt"
   ]
  },
  {
   "cell_type": "code",
   "execution_count": 23,
   "metadata": {},
   "outputs": [
    {
     "data": {
      "image/png": "[encoded data removed]",
      "text/plain": [
       "<Figure size 1000x600 with 1 Axes>"
      ]
     },
     "metadata": {},
     "output_type": "display_data"
    }
   ],
   "source": [
    "# Plotting the distribution of daily returns\n",
    "plt.figure(figsize=(10, 6))\n",
    "plt.hist(data['Daily Return'], bins=50, alpha=0.75, color='blue', edgecolor='black')\n",
    "plt.axvline(historical_var, color='red', linestyle='dashed', linewidth=2, label=f'VaR ({var_percentile}th percentile)')\n",
    "\n",
    "\n",
    "# Adding labels and title\n",
    "plt.title('Distribution of Daily Returns')\n",
    "plt.xlabel('Daily Return')\n",
    "plt.ylabel('Frequency')\n",
    "plt.legend()\n",
    "plt.show()"
   ]
  },
  {
   "cell_type": "code",
   "execution_count": null,
   "metadata": {},
   "outputs": [],
   "source": []
  }
 ],
 "metadata": {
  "kernelspec": {
   "display_name": "Python 3",
   "language": "python",
   "name": "python3"
  },
  "language_info": {
   "codemirror_mode": {
    "name": "ipython",
    "version": 3
   },
   "file_extension": ".py",
   "mimetype": "text/x-python",
   "name": "python",
   "nbconvert_exporter": "python",
   "pygments_lexer": "ipython3",
   "version": "3.9.12"
  }
 },
 "nbformat": 4,
 "nbformat_minor": 2
}
